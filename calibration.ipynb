{
 "cells": [
  {
   "cell_type": "markdown",
   "id": "4e0a0249-3265-4621-9870-353d9195f908",
   "metadata": {},
   "source": [
    "# Model Calibration\n",
    "\n",
    "This notebook is for calibrating the model. It extracts data from the yearly risk dataset created in `./pipeline.ipynb` for locations and years we have observed data on, and provides other visualization utilities. "
   ]
  },
  {
   "cell_type": "code",
   "execution_count": 2,
   "id": "29608210-4ee2-4d1d-bfd7-06a97317f175",
   "metadata": {},
   "outputs": [],
   "source": [
    "from pathlib import Path\n",
    "\n",
    "\n",
    "# paths\n",
    "out_dir = Path(\"/workspace/Shared/Tech_Projects/beetles/final_products\")\n",
    "yearly_risk_fp = out_dir.joinpath(\"yearly_risk.nc\")"
   ]
  },
  {
   "cell_type": "markdown",
   "id": "b25d0b2c-958a-458f-bc78-fc91cf48e574",
   "metadata": {},
   "source": [
    "Load yearly risk dataarray:"
   ]
  },
  {
   "cell_type": "code",
   "execution_count": 3,
   "id": "978d1e79-e376-4560-8470-2b303ec8ccc7",
   "metadata": {},
   "outputs": [],
   "source": [
    "import xarray as xr\n",
    "\n",
    "\n",
    "risk_da = xr.open_dataarray(yearly_risk_fp)"
   ]
  },
  {
   "cell_type": "markdown",
   "id": "2032d5d7-6ab1-43d3-a469-c304f7e864e8",
   "metadata": {},
   "source": [
    "Define the locations and years we are interested in:"
   ]
  },
  {
   "cell_type": "code",
   "execution_count": 6,
   "id": "1b2128d1-6b6c-4a46-ac09-2b66b4ee60e8",
   "metadata": {},
   "outputs": [],
   "source": [
    "import numpy as np\n",
    "\n",
    "\n",
    "locations_lu = {\n",
    "    \"Talkeetna\": {\n",
    "        \"years\": list(range(2012, 2018)),\n",
    "        \"latlon\": (62.3209, -150.1066),\n",
    "    },\n",
    "    \"Fairbanks\": {\n",
    "        \"years\": list(range(2014, 2020)),\n",
    "        \"latlon\": (64.8401, -147.7200),\n",
    "    },\n",
    "    \"King Salmon\": {\n",
    "        \"years\": list(range(2012, 2019)),\n",
    "        \"latlon\": (58.6887, -156.6628),\n",
    "    },\n",
    "    \"Delta Jct\": {\n",
    "        \"years\": list(range(2014, 2020)),\n",
    "        \"latlon\": (64.0401, -145.7344),\n",
    "    },\n",
    "}"
   ]
  },
  {
   "cell_type": "code",
   "execution_count": 32,
   "id": "f06cb17f-84e8-4fcc-937a-7312a3b19c4a",
   "metadata": {},
   "outputs": [],
   "source": [
    "# start of iteration over locations\n",
    "for location in locations_lu:\n",
    "    years = locations_lu[location][\"years\"]\n",
    "    lat, lon = locations_lu[location][\"latlon\"]\n",
    "    # translate longitude to (0, 360) degree scale\n",
    "    lon += 360\n",
    "    "
   ]
  },
  {
   "cell_type": "code",
   "execution_count": 34,
   "id": "d5ce4bf7-1cbe-4909-a842-46f4f30fe79a",
   "metadata": {},
   "outputs": [],
   "source": [
    "# get the x and y index values base on WGS84 coordinates\n",
    "dist_arr = np.sqrt(np.square(risk_da[\"longitude\"] - lon) + np.square(risk_da[\"latitude\"] - lat)).values\n",
    "yidx, xidx = np.where(dist_arr == dist_arr.min())"
   ]
  },
  {
   "cell_type": "code",
   "execution_count": 38,
   "id": "e7fb1d0d-9b6d-4099-9cb8-c4f2b3451048",
   "metadata": {},
   "outputs": [],
   "source": []
  },
  {
   "cell_type": "code",
   "execution_count": null,
   "id": "1b71eeed-6cb7-4af9-b61c-237a9241b4d4",
   "metadata": {},
   "outputs": [],
   "source": []
  }
 ],
 "metadata": {
  "kernelspec": {
   "display_name": "Python 3 (ipykernel)",
   "language": "python",
   "name": "python3"
  },
  "language_info": {
   "codemirror_mode": {
    "name": "ipython",
    "version": 3
   },
   "file_extension": ".py",
   "mimetype": "text/x-python",
   "name": "python",
   "nbconvert_exporter": "python",
   "pygments_lexer": "ipython3",
   "version": "3.9.13"
  }
 },
 "nbformat": 4,
 "nbformat_minor": 5
}
