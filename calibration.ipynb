{
 "cells": [
  {
   "cell_type": "markdown",
   "id": "4e0a0249-3265-4621-9870-353d9195f908",
   "metadata": {},
   "source": [
    "# Model Calibration\n",
    "\n",
    "This notebook is for calibrating the model. It extracts data from the yearly risk dataset created in `./pipeline.ipynb` for locations and years we have observed data on, and provides other visualization utilities. "
   ]
  },
  {
   "cell_type": "code",
   "execution_count": 86,
   "id": "29608210-4ee2-4d1d-bfd7-06a97317f175",
   "metadata": {},
   "outputs": [],
   "source": [
    "from pathlib import Path\n",
    "\n",
    "\n",
    "# paths\n",
    "out_dir = Path(\"/workspace/Shared/Tech_Projects/beetles/final_products\")\n",
    "yearly_risk_fp = out_dir.joinpath(\"yearly_risk.nc\")"
   ]
  },
  {
   "cell_type": "markdown",
   "id": "b25d0b2c-958a-458f-bc78-fc91cf48e574",
   "metadata": {},
   "source": [
    "Load yearly risk dataarray:"
   ]
  },
  {
   "cell_type": "code",
   "execution_count": 3,
   "id": "978d1e79-e376-4560-8470-2b303ec8ccc7",
   "metadata": {},
   "outputs": [],
   "source": [
    "import xarray as xr\n",
    "\n",
    "\n",
    "risk_da = xr.open_dataarray(yearly_risk_fp)"
   ]
  },
  {
   "cell_type": "markdown",
   "id": "2032d5d7-6ab1-43d3-a469-c304f7e864e8",
   "metadata": {},
   "source": [
    "Define the locations and years we are interested in:"
   ]
  },
  {
   "cell_type": "code",
   "execution_count": 6,
   "id": "1b2128d1-6b6c-4a46-ac09-2b66b4ee60e8",
   "metadata": {},
   "outputs": [],
   "source": [
    "import numpy as np\n",
    "\n",
    "\n",
    "locations_lu = {\n",
    "    \"Talkeetna\": {\n",
    "        \"years\": list(range(2012, 2018)),\n",
    "        \"latlon\": (62.3209, -150.1066),\n",
    "    },\n",
    "    \"Fairbanks\": {\n",
    "        \"years\": list(range(2014, 2020)),\n",
    "        \"latlon\": (64.8401, -147.7200),\n",
    "    },\n",
    "    \"King Salmon\": {\n",
    "        \"years\": list(range(2012, 2019)),\n",
    "        \"latlon\": (58.6887, -156.6628),\n",
    "    },\n",
    "    \"Delta Jct\": {\n",
    "        \"years\": list(range(2014, 2020)),\n",
    "        \"latlon\": (64.0401, -145.7344),\n",
    "    },\n",
    "}"
   ]
  },
  {
   "cell_type": "markdown",
   "id": "d133b74c-c969-4995-a5d0-6d099cb0b14b",
   "metadata": {},
   "source": [
    "Define a function to extract the risk values from the dataset:"
   ]
  },
  {
   "cell_type": "code",
   "execution_count": 77,
   "id": "d5ce4bf7-1cbe-4909-a842-46f4f30fe79a",
   "metadata": {},
   "outputs": [],
   "source": [
    "def extract_risk_df(risk_da, lat, lon, years):\n",
    "    \"\"\"Extract a dataframe of risk values for a given location\"\"\"\n",
    "    # get the x and y index values base on WGS84 coordinates\n",
    "    dist_arr = np.sqrt(\n",
    "        np.square(risk_da[\"longitude\"] - lon) + np.square(risk_da[\"latitude\"] - lat)\n",
    "    ).values\n",
    "    yidx, xidx = np.where(dist_arr == dist_arr.min())\n",
    "    \n",
    "    risk_df = risk_da.sel(y=yidx, x=xidx, year=years).drop([\"latitude\", \"longitude\"]).to_dataframe(\n",
    "        \"risk\"\n",
    "    ).reset_index().drop(columns=[\"x\", \"y\"])\n",
    "    \n",
    "    return risk_df"
   ]
  },
  {
   "cell_type": "markdown",
   "id": "7a39db26-5375-4292-9e2e-7b2e90e6e328",
   "metadata": {},
   "source": [
    "Apply the function and create a complete dataframe of extracted values for all desired locations and years:"
   ]
  },
  {
   "cell_type": "code",
   "execution_count": 95,
   "id": "f06cb17f-84e8-4fcc-937a-7312a3b19c4a",
   "metadata": {},
   "outputs": [],
   "source": [
    "import pandas as pd\n",
    "\n",
    "\n",
    "risk_df_list = []\n",
    "# start of iteration over locations\n",
    "for location in locations_lu:\n",
    "    years = locations_lu[location][\"years\"]\n",
    "    lat, lon = locations_lu[location][\"latlon\"]\n",
    "    # translate longitude to (0, 360) degree scale\n",
    "    lon += 360\n",
    "    temp_df = extract_risk_df(risk_da, lat, lon, years)\n",
    "    temp_df[\"location\"] = location\n",
    "    risk_df_list.append(temp_df)\n",
    "    \n",
    "risk_df = pd.concat(risk_df_list)\n",
    "risk_df = risk_df[[\"location\"] + list(risk_df.columns[:-1])]"
   ]
  },
  {
   "cell_type": "code",
   "execution_count": 96,
   "id": "e7fb1d0d-9b6d-4099-9cb8-c4f2b3451048",
   "metadata": {},
   "outputs": [
    {
     "data": {
      "text/html": [
       "<div>\n",
       "<style scoped>\n",
       "    .dataframe tbody tr th:only-of-type {\n",
       "        vertical-align: middle;\n",
       "    }\n",
       "\n",
       "    .dataframe tbody tr th {\n",
       "        vertical-align: top;\n",
       "    }\n",
       "\n",
       "    .dataframe thead th {\n",
       "        text-align: right;\n",
       "    }\n",
       "</style>\n",
       "<table border=\"1\" class=\"dataframe\">\n",
       "  <thead>\n",
       "    <tr style=\"text-align: right;\">\n",
       "      <th></th>\n",
       "      <th>location</th>\n",
       "      <th>model</th>\n",
       "      <th>scenario</th>\n",
       "      <th>snow</th>\n",
       "      <th>year</th>\n",
       "      <th>risk</th>\n",
       "    </tr>\n",
       "  </thead>\n",
       "  <tbody>\n",
       "    <tr>\n",
       "      <th>0</th>\n",
       "      <td>Talkeetna</td>\n",
       "      <td>CCSM4</td>\n",
       "      <td>rcp45</td>\n",
       "      <td>low</td>\n",
       "      <td>2012</td>\n",
       "      <td>0.0</td>\n",
       "    </tr>\n",
       "    <tr>\n",
       "      <th>1</th>\n",
       "      <td>Talkeetna</td>\n",
       "      <td>CCSM4</td>\n",
       "      <td>rcp45</td>\n",
       "      <td>low</td>\n",
       "      <td>2013</td>\n",
       "      <td>0.0</td>\n",
       "    </tr>\n",
       "    <tr>\n",
       "      <th>2</th>\n",
       "      <td>Talkeetna</td>\n",
       "      <td>CCSM4</td>\n",
       "      <td>rcp45</td>\n",
       "      <td>low</td>\n",
       "      <td>2014</td>\n",
       "      <td>0.0</td>\n",
       "    </tr>\n",
       "    <tr>\n",
       "      <th>3</th>\n",
       "      <td>Talkeetna</td>\n",
       "      <td>CCSM4</td>\n",
       "      <td>rcp45</td>\n",
       "      <td>low</td>\n",
       "      <td>2015</td>\n",
       "      <td>0.0</td>\n",
       "    </tr>\n",
       "    <tr>\n",
       "      <th>4</th>\n",
       "      <td>Talkeetna</td>\n",
       "      <td>CCSM4</td>\n",
       "      <td>rcp45</td>\n",
       "      <td>low</td>\n",
       "      <td>2016</td>\n",
       "      <td>0.0</td>\n",
       "    </tr>\n",
       "    <tr>\n",
       "      <th>...</th>\n",
       "      <td>...</td>\n",
       "      <td>...</td>\n",
       "      <td>...</td>\n",
       "      <td>...</td>\n",
       "      <td>...</td>\n",
       "      <td>...</td>\n",
       "    </tr>\n",
       "    <tr>\n",
       "      <th>139</th>\n",
       "      <td>Delta Jct</td>\n",
       "      <td>MRI-CGCM3</td>\n",
       "      <td>rcp85</td>\n",
       "      <td>high</td>\n",
       "      <td>2015</td>\n",
       "      <td>0.0</td>\n",
       "    </tr>\n",
       "    <tr>\n",
       "      <th>140</th>\n",
       "      <td>Delta Jct</td>\n",
       "      <td>MRI-CGCM3</td>\n",
       "      <td>rcp85</td>\n",
       "      <td>high</td>\n",
       "      <td>2016</td>\n",
       "      <td>0.0</td>\n",
       "    </tr>\n",
       "    <tr>\n",
       "      <th>141</th>\n",
       "      <td>Delta Jct</td>\n",
       "      <td>MRI-CGCM3</td>\n",
       "      <td>rcp85</td>\n",
       "      <td>high</td>\n",
       "      <td>2017</td>\n",
       "      <td>0.0</td>\n",
       "    </tr>\n",
       "    <tr>\n",
       "      <th>142</th>\n",
       "      <td>Delta Jct</td>\n",
       "      <td>MRI-CGCM3</td>\n",
       "      <td>rcp85</td>\n",
       "      <td>high</td>\n",
       "      <td>2018</td>\n",
       "      <td>0.0</td>\n",
       "    </tr>\n",
       "    <tr>\n",
       "      <th>143</th>\n",
       "      <td>Delta Jct</td>\n",
       "      <td>MRI-CGCM3</td>\n",
       "      <td>rcp85</td>\n",
       "      <td>high</td>\n",
       "      <td>2019</td>\n",
       "      <td>0.0</td>\n",
       "    </tr>\n",
       "  </tbody>\n",
       "</table>\n",
       "<p>600 rows × 6 columns</p>\n",
       "</div>"
      ],
      "text/plain": [
       "      location      model scenario  snow  year  risk\n",
       "0    Talkeetna      CCSM4    rcp45   low  2012   0.0\n",
       "1    Talkeetna      CCSM4    rcp45   low  2013   0.0\n",
       "2    Talkeetna      CCSM4    rcp45   low  2014   0.0\n",
       "3    Talkeetna      CCSM4    rcp45   low  2015   0.0\n",
       "4    Talkeetna      CCSM4    rcp45   low  2016   0.0\n",
       "..         ...        ...      ...   ...   ...   ...\n",
       "139  Delta Jct  MRI-CGCM3    rcp85  high  2015   0.0\n",
       "140  Delta Jct  MRI-CGCM3    rcp85  high  2016   0.0\n",
       "141  Delta Jct  MRI-CGCM3    rcp85  high  2017   0.0\n",
       "142  Delta Jct  MRI-CGCM3    rcp85  high  2018   0.0\n",
       "143  Delta Jct  MRI-CGCM3    rcp85  high  2019   0.0\n",
       "\n",
       "[600 rows x 6 columns]"
      ]
     },
     "execution_count": 96,
     "metadata": {},
     "output_type": "execute_result"
    }
   ],
   "source": [
    "risk_df"
   ]
  },
  {
   "cell_type": "code",
   "execution_count": null,
   "id": "424780a0-7eab-42dd-9d1b-50b6cd696041",
   "metadata": {},
   "outputs": [],
   "source": []
  }
 ],
 "metadata": {
  "kernelspec": {
   "display_name": "Python 3 (ipykernel)",
   "language": "python",
   "name": "python3"
  },
  "language_info": {
   "codemirror_mode": {
    "name": "ipython",
    "version": 3
   },
   "file_extension": ".py",
   "mimetype": "text/x-python",
   "name": "python",
   "nbconvert_exporter": "python",
   "pygments_lexer": "ipython3",
   "version": "3.9.13"
  }
 },
 "nbformat": 4,
 "nbformat_minor": 5
}
