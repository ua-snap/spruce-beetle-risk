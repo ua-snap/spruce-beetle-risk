{
 "cells": [
  {
   "cell_type": "markdown",
   "id": "382f83f7-3fc1-4c5f-ad60-fc4f3a474972",
   "metadata": {},
   "source": [
    "# Calibrate risk classes more\n",
    "\n",
    "This notebook is for further calibration of the risk classes, based on continued assesment of current \"production\" daymet risk maps (circa January 2023).\n",
    "\n",
    "We will first recompute the final risk dataset with three other moderate threshold / year propoertion combinations:\n",
    "\n",
    "* 0.08 and 50% of years\n",
    "* 0.12 for 33% of years\n",
    "* 0.02 for 75% of years\n",
    "\n",
    "(also decided to throw in a few more combos)"
   ]
  },
  {
   "cell_type": "code",
   "execution_count": 1,
   "id": "8aa89d3a-d508-4713-a72c-9dc1ef8800e4",
   "metadata": {},
   "outputs": [],
   "source": [
    "import shutil\n",
    "import subprocess\n",
    "from itertools import product\n",
    "import numpy as np\n",
    "import rasterio as rio\n",
    "import xarray as xr\n",
    "import rioxarray\n",
    "import matplotlib.pyplot as plt\n",
    "from wrf import PolarStereographic\n",
    "from pyproj import Proj, Transformer\n",
    "# project imports\n",
    "from config import *\n",
    "from classify_clip_mask import classify_risk"
   ]
  },
  {
   "cell_type": "code",
   "execution_count": 2,
   "id": "51b8cc8b-2d08-4242-ad41-5750fec53220",
   "metadata": {},
   "outputs": [],
   "source": [
    "rm /atlas_scratch/kmredilla/beetles/moderate_risk_calibration_jan_2023/*"
   ]
  },
  {
   "cell_type": "code",
   "execution_count": 3,
   "id": "20595a73-2fce-4b38-9fd1-3657bdc9b4f6",
   "metadata": {},
   "outputs": [],
   "source": [
    "daymet_era = \"1988-2017\"\n",
    "\n",
    "daymet_risk_fp = yearly_risk_dir.joinpath(\"yearly_risk_daymet_1980-2017.nc\")\n",
    "ds = xr.open_dataset(daymet_risk_fp).sel(year=slice(1988, 2017))\n",
    "\n",
    "out_dir = scratch_dir.joinpath(\"moderate_risk_calibration_jan_2023\")\n",
    "out_dir.mkdir(exist_ok=True)\n",
    "\n",
    "test_groups = [\n",
    "    (0.06, 0.5),\n",
    "    (0.08, 0.5),\n",
    "    (0.12, 0.33),\n",
    "    (0.1, 0.33),\n",
    "    (0.08, 0.33),\n",
    "    (0.02, 0.75),\n",
    "    (0.04, 0.75),\n",
    "]\n",
    "\n",
    "for group in test_groups:\n",
    "    med_thr, count_prop = group\n",
    "    out_fp = out_dir.joinpath(f\"risk_class_calibration_{med_thr}thr_{count_prop}prop_daymet.png\")\n",
    "    \n",
    "    arr = ds[\"risk\"].sel(snow=\"med\").values\n",
    "    out_arr = np.apply_along_axis(classify_risk, 0, arr, med_thr, count_prop)\n",
    "\n",
    "    fig, ax = plt.subplots(1, 1, figsize=(18, 8))\n",
    "\n",
    "    im = ax.imshow(out_arr, interpolation=\"none\")\n",
    "    plt.axis(\"off\")\n",
    "    ax.set_title(f\"Beetle risk (Daymet)\\nthreshold={med_thr}\\ncount proportion={count_prop}\", size=14, pad=-5)\n",
    "    plt.savefig(out_fp, bbox_inches='tight', facecolor=\"white\")\n",
    "    plt.close()"
   ]
  },
  {
   "cell_type": "markdown",
   "id": "8bd5734c-53f9-48e0-beaa-dc4dcb03995b",
   "metadata": {},
   "source": [
    "Copy this to Google Drive for viewing:\n",
    "```\n",
    "rclone copy /atlas_scratch/kmredilla/beetles/moderate_risk_calibration_jan_2023/ google-drive:Beetles/moderate_risk_calibration_jan_2023\n",
    "```"
   ]
  },
  {
   "cell_type": "code",
   "execution_count": null,
   "id": "00af0686-e221-465e-813a-403d56f28f77",
   "metadata": {},
   "outputs": [],
   "source": []
  }
 ],
 "metadata": {
  "kernelspec": {
   "display_name": "Python 3 (ipykernel)",
   "language": "python",
   "name": "python3"
  },
  "language_info": {
   "codemirror_mode": {
    "name": "ipython",
    "version": 3
   },
   "file_extension": ".py",
   "mimetype": "text/x-python",
   "name": "python",
   "nbconvert_exporter": "python",
   "pygments_lexer": "ipython3",
   "version": "3.9.13"
  }
 },
 "nbformat": 4,
 "nbformat_minor": 5
}
