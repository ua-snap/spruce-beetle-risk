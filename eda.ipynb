{
 "cells": [
  {
   "cell_type": "markdown",
   "id": "50f42187",
   "metadata": {},
   "source": [
    "# Exploratory data analysis"
   ]
  },
  {
   "cell_type": "markdown",
   "id": "cec26cb3",
   "metadata": {},
   "source": [
    "## Visualizing risk dataset\n",
    "\n",
    "Some exploration of the output risk dataset being created in this repo."
   ]
  },
  {
   "cell_type": "code",
   "execution_count": null,
   "id": "1d9fd394",
   "metadata": {},
   "outputs": [],
   "source": [
    "# saved for plotting side-by-side pots\n",
    "fig, axes = plt.subplots(1, 2, figsize=(20, 6))\n",
    "for arr, ax in zip(arrs, axes):\n",
    "    im = ax.imshow(arr, interpolation=\"none\")\n",
    "    ax.set_title(f\"plot title\")\n",
    "\n",
    "fig.subplots_adjust(right=0.8)\n",
    "cbar_ax = fig.add_axes([0.83, 0.25, 0.02, 0.5])\n",
    "cbar = fig.colorbar(im, cax=cbar_ax)\n",
    "cbar.ax.get_yaxis().labelpad = 30\n",
    "cbar.set_label('cbar label', size=14, rotation=0)\n",
    "\n",
    "plt.suptitle(\"fig title\", size=14)\n",
    "plt.show()"
   ]
  },
  {
   "cell_type": "markdown",
   "id": "0154b3bf",
   "metadata": {
    "tags": []
   },
   "source": [
    "## NCAR Data\n",
    "\n",
    "Some exploration of the NCAR BCSD data."
   ]
  },
  {
   "cell_type": "markdown",
   "id": "be12777a-fc4e-4742-b453-8a3e2e04caf6",
   "metadata": {},
   "source": [
    "#### How long does it take to load the data?\n",
    "\n",
    "Current pipeline is reading in each dataset twice as it iterates over years. Hoe long does it take to just load all of the data for a particular year using `xarray.open_mfdataset`? Also how does this compare to the time taken to copy it to scratch space and then open it? Will use a simple `min()` operation to benchmark."
   ]
  },
  {
   "cell_type": "code",
   "execution_count": 20,
   "id": "aa20bc19-3f56-40d8-a1e1-b9c4db8a63eb",
   "metadata": {},
   "outputs": [],
   "source": [
    "from pathlib import Path\n",
    "\n",
    "\n",
    "met_dir = Path(\"/Data/Base_Data/Climate/AK_NCAR_12km/met\")\n",
    "tmp_fn = \"{}_{}_BCSD_met_{}.nc4\"\n",
    "model = \"CCSM4\"\n",
    "scenario = \"rcp45\"\n",
    "\n",
    "fps = [met_dir.joinpath(model, scenario, tmp_fn.format(model, scenario, year)) for year in range(1950, 2010)]"
   ]
  },
  {
   "cell_type": "markdown",
   "id": "3d7e2c0d-546d-4c9d-8806-5d6eb3d3b574",
   "metadata": {},
   "source": [
    "Reading from Poseidon:"
   ]
  },
  {
   "cell_type": "code",
   "execution_count": 24,
   "id": "ed38240c-1a09-47d6-8aeb-d0bd25f4ca90",
   "metadata": {},
   "outputs": [],
   "source": [
    "import xarray as xr\n",
    "\n",
    "\n",
    "ds = xr.open_mfdataset(fps)"
   ]
  },
  {
   "cell_type": "code",
   "execution_count": 27,
   "id": "8065659d-c1d0-40df-8d65-503908df9ac2",
   "metadata": {},
   "outputs": [
    {
     "name": "stderr",
     "output_type": "stream",
     "text": [
      "/home/UA/kmredilla/miniconda3/envs/py39/lib/python3.9/site-packages/dask/array/reductions.py:586: RuntimeWarning: All-NaN slice encountered\n",
      "  return np.nanmin(x_chunk, axis=axis, keepdims=keepdims)\n"
     ]
    },
    {
     "name": "stdout",
     "output_type": "stream",
     "text": [
      "CPU times: user 38.7 s, sys: 5.95 s, total: 44.7 s\n",
      "Wall time: 1min 48s\n"
     ]
    }
   ],
   "source": [
    "%time test = ds[\"tmin\"].min(axis=0).compute()"
   ]
  },
  {
   "cell_type": "markdown",
   "id": "87c5cc55-17ac-4885-a934-5eaf58724888",
   "metadata": {},
   "source": [
    "Wow that is not too bad. Going to try changing the read/compute strategy up a bit in the pipeline."
   ]
  },
  {
   "cell_type": "markdown",
   "id": "158f74ca-0798-487f-9b2c-546671e1c4e4",
   "metadata": {},
   "source": [
    "#### Equal historical values between future scenarios?\n",
    "\n",
    "**Question - are the data for different scenarios of the same model have equal values for \"historical\" period before the emissions scenarios kick in?**\n",
    "\n",
    "Iterate over the models and read in a sample time slice for the same time and compare."
   ]
  },
  {
   "cell_type": "code",
   "execution_count": 10,
   "id": "aa031c97",
   "metadata": {},
   "outputs": [],
   "source": [
    "from pathlib import Path\n",
    "import numpy as np\n",
    "import pandas as pd\n",
    "import xarray as xr\n",
    "import luts\n",
    "\n",
    "\n",
    "def compare_scenarios(year):\n",
    "    met_dir = Path(\"/workspace/Shared/Tech_Projects/NCAR_AK/met\")\n",
    "    tmp_fn = \"{}_{}_BCSD_met_{}.nc4\"\n",
    "\n",
    "    date = f\"{year}-01-01\"\n",
    "\n",
    "    results = []\n",
    "    for model in luts.models:\n",
    "        model_result = {\"model\": model}\n",
    "        for varname in [\"pcp\", \"tmin\", \"tmax\"]:\n",
    "            with xr.open_dataset(met_dir.joinpath(model, \"rcp45\", tmp_fn.format(model, \"rcp45\", year))) as ds45:\n",
    "                rcp45_arr = ds45[varname].sel(time=date)\n",
    "\n",
    "            with xr.open_dataset(met_dir.joinpath(model, \"rcp85\", tmp_fn.format(model, \"rcp85\", year))) as ds85:\n",
    "                rcp85_arr = ds85[varname].sel(time=date)\n",
    "\n",
    "            model_result[varname] = np.array_equal(rcp45_arr, rcp85_arr, equal_nan=True)\n",
    "        results.append(model_result)\n",
    "    results_df = pd.DataFrame(results)\n",
    "    print(results_df)\n"
   ]
  },
  {
   "cell_type": "markdown",
   "id": "06ef26f3",
   "metadata": {},
   "source": [
    "Just poking around a few different years, there appear to be some inconsistencies. Looks like for 1950, `CCSM4` has the same data for `tmin`, but nothing else:"
   ]
  },
  {
   "cell_type": "code",
   "execution_count": 11,
   "id": "e92c37e2",
   "metadata": {},
   "outputs": [
    {
     "name": "stdout",
     "output_type": "stream",
     "text": [
      "           model    pcp   tmin   tmax\n",
      "0      ACCESS1-3  False  False  False\n",
      "1        CanESM2  False  False  False\n",
      "2          CCSM4  False   True  False\n",
      "3  CSIRO-Mk3-6-0  False  False  False\n",
      "4     GFDL-ESM2M  False  False  False\n",
      "5     HadGEM2-ES  False  False  False\n",
      "6         inmcm4  False  False  False\n",
      "7         MIROC5  False  False  False\n",
      "8     MPI-ESM-MR  False  False  False\n",
      "9      MRI-CGCM3  False  False  False\n"
     ]
    }
   ],
   "source": [
    "compare_scenarios(1950)"
   ]
  },
  {
   "cell_type": "markdown",
   "id": "32704fca",
   "metadata": {},
   "source": [
    "Found another year where data match for `tmin`, for `HadGEM2-ES`, but nothing else:"
   ]
  },
  {
   "cell_type": "code",
   "execution_count": 12,
   "id": "593533ce",
   "metadata": {},
   "outputs": [
    {
     "name": "stdout",
     "output_type": "stream",
     "text": [
      "           model    pcp   tmin   tmax\n",
      "0      ACCESS1-3  False  False  False\n",
      "1        CanESM2  False  False  False\n",
      "2          CCSM4  False  False  False\n",
      "3  CSIRO-Mk3-6-0  False  False  False\n",
      "4     GFDL-ESM2M  False  False  False\n",
      "5     HadGEM2-ES  False   True  False\n",
      "6         inmcm4  False  False  False\n",
      "7         MIROC5  False  False  False\n",
      "8     MPI-ESM-MR  False  False  False\n",
      "9      MRI-CGCM3  False  False  False\n"
     ]
    }
   ],
   "source": [
    "compare_scenarios(1985)"
   ]
  },
  {
   "cell_type": "markdown",
   "id": "97cb71b2",
   "metadata": {},
   "source": [
    "But it seems that the arrays don't match for any models for other years:"
   ]
  },
  {
   "cell_type": "code",
   "execution_count": 13,
   "id": "0a201146",
   "metadata": {},
   "outputs": [
    {
     "name": "stdout",
     "output_type": "stream",
     "text": [
      "           model    pcp   tmin   tmax\n",
      "0      ACCESS1-3  False  False  False\n",
      "1        CanESM2  False  False  False\n",
      "2          CCSM4  False  False  False\n",
      "3  CSIRO-Mk3-6-0  False  False  False\n",
      "4     GFDL-ESM2M  False  False  False\n",
      "5     HadGEM2-ES  False  False  False\n",
      "6         inmcm4  False  False  False\n",
      "7         MIROC5  False  False  False\n",
      "8     MPI-ESM-MR  False  False  False\n",
      "9      MRI-CGCM3  False  False  False\n"
     ]
    }
   ],
   "source": [
    "compare_scenarios(1990)"
   ]
  },
  {
   "cell_type": "code",
   "execution_count": 14,
   "id": "2bae7fbe",
   "metadata": {},
   "outputs": [
    {
     "name": "stdout",
     "output_type": "stream",
     "text": [
      "           model    pcp   tmin   tmax\n",
      "0      ACCESS1-3  False  False  False\n",
      "1        CanESM2  False  False  False\n",
      "2          CCSM4  False  False  False\n",
      "3  CSIRO-Mk3-6-0  False  False  False\n",
      "4     GFDL-ESM2M  False  False  False\n",
      "5     HadGEM2-ES  False  False  False\n",
      "6         inmcm4  False  False  False\n",
      "7         MIROC5  False  False  False\n",
      "8     MPI-ESM-MR  False  False  False\n",
      "9      MRI-CGCM3  False  False  False\n"
     ]
    }
   ],
   "source": [
    "compare_scenarios(1995)"
   ]
  },
  {
   "cell_type": "code",
   "execution_count": 15,
   "id": "5e2a0703",
   "metadata": {},
   "outputs": [
    {
     "name": "stdout",
     "output_type": "stream",
     "text": [
      "           model    pcp   tmin   tmax\n",
      "0      ACCESS1-3  False  False  False\n",
      "1        CanESM2  False  False  False\n",
      "2          CCSM4  False  False  False\n",
      "3  CSIRO-Mk3-6-0  False  False  False\n",
      "4     GFDL-ESM2M  False  False  False\n",
      "5     HadGEM2-ES  False  False  False\n",
      "6         inmcm4  False  False  False\n",
      "7         MIROC5  False  False  False\n",
      "8     MPI-ESM-MR  False  False  False\n",
      "9      MRI-CGCM3  False  False  False\n"
     ]
    }
   ],
   "source": [
    "compare_scenarios(1967)"
   ]
  },
  {
   "cell_type": "code",
   "execution_count": null,
   "id": "1730f646",
   "metadata": {},
   "outputs": [],
   "source": []
  },
  {
   "cell_type": "markdown",
   "id": "22d6174b",
   "metadata": {
    "tags": []
   },
   "source": [
    "### \"degree days below the curve\" testing\n",
    "\n",
    "This section explores the idea of counting degree days under the curve, or something like it, for an estimate of cooling."
   ]
  },
  {
   "cell_type": "code",
   "execution_count": 49,
   "id": "ca10f2b5",
   "metadata": {},
   "outputs": [],
   "source": [
    "import numpy as np\n",
    "import xarray as xr\n",
    "from pathlib import Path\n",
    "from itertools import product"
   ]
  },
  {
   "cell_type": "code",
   "execution_count": 26,
   "id": "55c8a03c",
   "metadata": {},
   "outputs": [],
   "source": [
    "met_dir = Path(\"/workspace/Shared/Tech_Projects/NCAR_AK/met\")\n",
    "tmp_fn = \"{}_{}_BCSD_met_{}.nc4\""
   ]
  },
  {
   "cell_type": "code",
   "execution_count": 28,
   "id": "c9194ef0",
   "metadata": {},
   "outputs": [],
   "source": [
    "model = \"ACCESS1-3\"\n",
    "scenario = \"hist\""
   ]
  },
  {
   "cell_type": "code",
   "execution_count": 175,
   "id": "89798ce7",
   "metadata": {},
   "outputs": [],
   "source": [
    "ds = xr.open_mfdataset([\n",
    "    met_dir.joinpath(model, scenario, tmp_fn.format(model, scenario, year))\n",
    "    for year in range(1980, 2010)\n",
    "])"
   ]
  },
  {
   "cell_type": "code",
   "execution_count": 196,
   "id": "29e49d17",
   "metadata": {
    "tags": []
   },
   "outputs": [],
   "source": [
    "test_fall_arr = []\n",
    "for year in range(1980, 2010):\n",
    "    winter_tmin = ds[\"tmin\"].sel(\n",
    "        time=slice(f\"{year - 1}-07-01\", f\"{year}-06-30\")\n",
    "    ).values\n",
    "    test_fall_arr.append(np.flipud(np.apply_along_axis(fall_cooling, 0, winter_tmin)))\n",
    "test_fall_arr = np.array(test_fall_arr)"
   ]
  },
  {
   "cell_type": "code",
   "execution_count": 186,
   "id": "9979f204",
   "metadata": {},
   "outputs": [],
   "source": [
    "nodata_mask = np.broadcast_to(np.flipud(np.isnan(winter_tmin[0])), test_fall_arr.shape)"
   ]
  },
  {
   "cell_type": "markdown",
   "id": "698ce597",
   "metadata": {},
   "source": [
    "Plot the mean degree days under the curve for ACCESS1-3 historical, 1980-2010"
   ]
  },
  {
   "cell_type": "code",
   "execution_count": 213,
   "id": "4e301dc8",
   "metadata": {},
   "outputs": [],
   "source": [
    "mean_arr = test_fall_arr.mean(axis=0)\n",
    "mean_arr[np.flipud(np.isnan(winter_tmin[0]))] = np.nan\n",
    "mean_arr[mean_arr > 70] = np.nan"
   ]
  },
  {
   "cell_type": "code",
   "execution_count": 216,
   "id": "9277e9ad",
   "metadata": {},
   "outputs": [
    {
     "data": {
      "text/plain": [
       "<matplotlib.colorbar.Colorbar at 0x7f5790191a00>"
      ]
     },
     "execution_count": 216,
     "metadata": {},
     "output_type": "execute_result"
    },
    {
     "data": {
      "image/png": "[encoded data removed]",
      "text/plain": [
       "<Figure size 864x504 with 2 Axes>"
      ]
     },
     "metadata": {
      "needs_background": "light"
     },
     "output_type": "display_data"
    }
   ],
   "source": [
    "import matplotlib.pyplot as plt\n",
    "\n",
    "fig, axes = plt.subplots(1, 1, figsize=(12, 7))\n",
    "\n",
    "plt.imshow(mean_arr, interpolation=\"none\")\n",
    "plt.colorbar()"
   ]
  },
  {
   "cell_type": "code",
   "execution_count": null,
   "id": "ae65ba72",
   "metadata": {},
   "outputs": [],
   "source": []
  },
  {
   "cell_type": "code",
   "execution_count": null,
   "id": "7902445a",
   "metadata": {},
   "outputs": [],
   "source": [
    "# pulling som data from Nancy's spreadsheet\n",
    "\n"
   ]
  }
 ],
 "metadata": {
  "kernelspec": {
   "display_name": "Python 3 (ipykernel)",
   "language": "python",
   "name": "python3"
  },
  "language_info": {
   "codemirror_mode": {
    "name": "ipython",
    "version": 3
   },
   "file_extension": ".py",
   "mimetype": "text/x-python",
   "name": "python",
   "nbconvert_exporter": "python",
   "pygments_lexer": "ipython3",
   "version": "3.9.13"
  }
 },
 "nbformat": 4,
 "nbformat_minor": 5
}
