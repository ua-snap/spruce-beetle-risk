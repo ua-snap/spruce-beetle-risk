{
 "cells": [
  {
   "cell_type": "markdown",
   "id": "0e00cc99",
   "metadata": {
    "tags": []
   },
   "source": [
    "# AK spruce beetle outbreak risk pipeline\n",
    "\n",
    "This notebook is used for creating a climate-based dataset of spruce beetle outbreak risk.\n",
    "\n",
    "It is currently under development."
   ]
  },
  {
   "cell_type": "markdown",
   "id": "677529ac",
   "metadata": {},
   "source": [
    "Set up path variables and slurm variables:"
   ]
  },
  {
   "cell_type": "code",
   "execution_count": 1,
   "id": "db789067",
   "metadata": {},
   "outputs": [],
   "source": [
    "from pathlib import Path\n",
    "\n",
    "\n",
    "met_dir = Path(\"/Data/Base_Data/Climate/AK_NCAR_12km/met\")\n",
    "tmp_fn = \"{}_{}_BCSD_met_{}.nc4\"\n",
    "scratch_dir = Path(\"/atlas_scratch/kmredilla/beetles\")\n",
    "slurm_dir = scratch_dir.joinpath(\"slurm\")\n",
    "slurm_dir.mkdir(exist_ok=True, parents=True)\n",
    "\n",
    "# init script for conda on compute nodes\n",
    "\n",
    "slurm_email = \"kmredilla@alaska.edu\"\n",
    "partition = \"main\"\n",
    "conda_init_script = \"/home/UA/kmredilla/conda_init.sh\"\n",
    "conda_env_name = \"py39\"\n",
    "ncpus = 32\n",
    "\n",
    "compute_yearly_risk = \"/workspace/UA/kmredilla/spruce-beetle-risk/compute_yearly_risk.py\""
   ]
  },
  {
   "cell_type": "markdown",
   "id": "8e565168-ce9f-4683-9625-64913a7b9683",
   "metadata": {},
   "source": [
    "Create a slurm sbatch script for each model, scenario, and era combination. Each job will occupy a node to read the data in parallel and return a risk dataset. Define a function to create this script:"
   ]
  },
  {
   "cell_type": "code",
   "execution_count": 2,
   "id": "e178e43c-59d9-4479-bf1e-fa046d5ebc53",
   "metadata": {},
   "outputs": [],
   "source": [
    "def write_sbatch_yearly_risk(\n",
    "    slurm_email,\n",
    "    partition,\n",
    "    conta_init_script,\n",
    "    conda_env_name,\n",
    "    sbatch_fp,\n",
    "    sbatch_out_fp,\n",
    "    compute_yearly_risk,\n",
    "    met_dir,\n",
    "    tmp_fn,\n",
    "    era,\n",
    "    model,\n",
    "    scenario,\n",
    "    ncpus,\n",
    "    risk_fp\n",
    "):\n",
    "    sbatch_head = (\n",
    "        \"#!/bin/sh\\n\"\n",
    "        \"#SBATCH --nodes=1\\n\"\n",
    "        \"#SBATCH --cpus-per-task={}\\n\"\n",
    "        \"#SBATCH --mail-type=FAIL\\n\"\n",
    "        f\"#SBATCH --mail-user={slurm_email}\\n\"\n",
    "        f\"#SBATCH -p {partition}\\n\"\n",
    "        \"#SBATCH --output {}\\n\"\n",
    "        # print start time\n",
    "        \"echo Start slurm && date\\n\"\n",
    "        # prepare shell for using activate - Chinook requirement\n",
    "        f\"source {conda_init_script}\\n\"\n",
    "        f\"conda activate {conda_env_name}\\n\"\n",
    "    )\n",
    "\n",
    "    pycommands = \"\\n\"\n",
    "    pycommands += (\n",
    "        f\"python {compute_yearly_risk} \"\n",
    "        f\"--met_dir {met_dir} \"\n",
    "        f\"--tmp_fn {tmp_fn} \"\n",
    "        f\"--era {era} \"\n",
    "        f\"--model {model} \"\n",
    "        f\"--scenario {scenario} \"\n",
    "        f\"--ncpus {ncpus} \"\n",
    "        f\"--risk_fp {risk_fp}\\n\\n\"\n",
    "    )\n",
    "    commands = sbatch_head.format(ncpus, sbatch_out_fp) + pycommands\n",
    "\n",
    "    with open(sbatch_fp, \"w\") as f:\n",
    "        f.write(commands)\n"
   ]
  },
  {
   "cell_type": "markdown",
   "id": "dc6bb49b-664f-4936-8396-cef2627ffd56",
   "metadata": {},
   "source": [
    "## Process CMIP5 yearly risk dataset"
   ]
  },
  {
   "cell_type": "markdown",
   "id": "091f0f84-8ced-4850-990d-f6fb0fb8558d",
   "metadata": {},
   "source": [
    "Build sbatch files:"
   ]
  },
  {
   "cell_type": "code",
   "execution_count": 4,
   "id": "94a9c66f-a7ae-410c-bc0c-ba17c0816f52",
   "metadata": {},
   "outputs": [],
   "source": [
    "import luts\n",
    "\n",
    "\n",
    "sbatch_fps = []\n",
    "risk_fps = []\n",
    "for model in luts.models:\n",
    "    for scenario in luts.scenarios:\n",
    "        for era in luts.eras:\n",
    "            if era in [\"2040-2099\"]:\n",
    "                continue\n",
    "            sbatch_fp = slurm_dir.joinpath(\n",
    "                f\"yearly_risk_{model}_{scenario}_{era}.slurm\"\n",
    "            )\n",
    "            sbatch_out_fp = str(sbatch_fp).replace(\".slurm\", \"_%j.out\")\n",
    "            # temporary filepath for yearly data array\n",
    "            risk_fp = scratch_dir.joinpath(f\"{model}_{scenario}_{era}.nc\")\n",
    "            write_sbatch_yearly_risk(\n",
    "                slurm_email,\n",
    "                partition,\n",
    "                conda_init_script,\n",
    "                conda_env_name,\n",
    "                sbatch_fp,\n",
    "                sbatch_out_fp,\n",
    "                compute_yearly_risk,\n",
    "                met_dir,\n",
    "                tmp_fn,\n",
    "                era,\n",
    "                model,\n",
    "                scenario,\n",
    "                ncpus,\n",
    "                risk_fp\n",
    "            )\n",
    "            sbatch_fps.append(sbatch_fp)\n",
    "            risk_fps.append(risk_fp)"
   ]
  },
  {
   "cell_type": "code",
   "execution_count": 39,
   "id": "e74f083a-3179-4037-b941-71dedcdded7a",
   "metadata": {},
   "outputs": [],
   "source": [
    "# remove existing output files if desired\n",
    "_ = [fp.unlink() for fp in slurm_dir.glob(\"*.out\")]"
   ]
  },
  {
   "cell_type": "code",
   "execution_count": 5,
   "id": "eb676ab4-feae-4abf-b12b-eea972aed34b",
   "metadata": {},
   "outputs": [],
   "source": [
    "import subprocess\n",
    "\n",
    "\n",
    "def submit_sbatch(sbatch_fp):\n",
    "    \"\"\"Submit a script to slurm via sbatch\n",
    "    \n",
    "    Args:\n",
    "        sbatch_fp (pathlib.PosixPath): path to .slurm script to submit\n",
    "        \n",
    "    Returns:\n",
    "        job id for submitted job\n",
    "    \"\"\"\n",
    "    out = subprocess.check_output([\"sbatch\", str(sbatch_fp)])\n",
    "    job_id = out.decode().replace(\"\\n\", \"\").split(\" \")[-1]\n",
    "\n",
    "    return job_id"
   ]
  },
  {
   "cell_type": "markdown",
   "id": "b6f1ed7a-4fc9-4b05-a65d-4c1fd28d16e5",
   "metadata": {},
   "source": [
    "Submit the sbatch jobs:"
   ]
  },
  {
   "cell_type": "code",
   "execution_count": 6,
   "id": "1a3caa3e-fb15-47df-9bcf-4d68402d4a24",
   "metadata": {},
   "outputs": [],
   "source": [
    "job_ids = [submit_sbatch(fp) for fp in sbatch_fps]"
   ]
  },
  {
   "cell_type": "markdown",
   "id": "352c8e76-6198-4c3c-a8cc-118af46f0898",
   "metadata": {},
   "source": [
    "Read in all temporary DataArrays and combine:"
   ]
  },
  {
   "cell_type": "code",
   "execution_count": 10,
   "id": "723905ca-7cdc-4c43-8212-66fb72249a17",
   "metadata": {},
   "outputs": [],
   "source": [
    "import xarray as xr\n",
    "\n",
    "\n",
    "risk_da = xr.combine_by_coords([xr.open_dataarray(fp) for fp in risk_fps])"
   ]
  },
  {
   "cell_type": "markdown",
   "id": "6417148b-fb29-4b75-8d3d-a24364aa0c3a",
   "metadata": {},
   "source": [
    "Save to a single file on Poseidon:"
   ]
  },
  {
   "cell_type": "code",
   "execution_count": 12,
   "id": "9db428bf-e6b2-454c-97fa-75a425e73ffb",
   "metadata": {},
   "outputs": [],
   "source": [
    "out_fp = \"/workspace/Shared/Tech_Projects/beetles/final_products/yearly_risk.nc\"\n",
    "\n",
    "risk_da.to_netcdf(out_fp)"
   ]
  },
  {
   "cell_type": "markdown",
   "id": "261733d5-cefa-487a-88ba-848742906d8d",
   "metadata": {},
   "source": [
    "## Process Daymet yearly risk dataset"
   ]
  },
  {
   "cell_type": "code",
   "execution_count": 8,
   "id": "ec5e1aad-930d-4b09-9e35-d0ada7fd146a",
   "metadata": {},
   "outputs": [],
   "source": [
    "import compute_yearly_risk as main\n",
    "\n",
    "\n",
    "dm_tmp_fn = \"{}_met_{}.nc\"\n",
    "dm_era = \"1990-2017\"\n",
    "dm_model = \"daymet\"\n",
    "dm_ncpus = 32"
   ]
  },
  {
   "cell_type": "code",
   "execution_count": 9,
   "id": "13eb3041-19b8-4c34-baac-7752a6cd18f0",
   "metadata": {},
   "outputs": [],
   "source": [
    "daymet_risk_comp_ds = main.process_risk_components(\n",
    "    met_dir, dm_tmp_fn, dm_era, dm_model, dm_ncpus\n",
    ")"
   ]
  },
  {
   "cell_type": "code",
   "execution_count": 13,
   "id": "81a7bf21-2c36-40ea-9c30-8cd655b01b96",
   "metadata": {},
   "outputs": [],
   "source": [
    "daymet_out_fp = scratch_dir.joinpath(\"yearly_risk_components_daymet.nc\")\n",
    "\n",
    "daymet_risk_comp_ds.to_netcdf(daymet_out_fp)"
   ]
  },
  {
   "cell_type": "code",
   "execution_count": null,
   "id": "965a3e83-023d-4639-ba56-5a0faa2c6a7f",
   "metadata": {},
   "outputs": [],
   "source": []
  }
 ],
 "metadata": {
  "kernelspec": {
   "display_name": "Python 3 (ipykernel)",
   "language": "python",
   "name": "python3"
  },
  "language_info": {
   "codemirror_mode": {
    "name": "ipython",
    "version": 3
   },
   "file_extension": ".py",
   "mimetype": "text/x-python",
   "name": "python",
   "nbconvert_exporter": "python",
   "pygments_lexer": "ipython3",
   "version": "3.8.10"
  }
 },
 "nbformat": 4,
 "nbformat_minor": 5
}
