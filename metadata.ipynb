{
 "cells": [
  {
   "cell_type": "markdown",
   "id": "d06cc36e",
   "metadata": {},
   "source": [
    "# Metadata\n",
    "\n",
    "This notebook can be used for deriving some metadata from the datasets created here."
   ]
  },
  {
   "cell_type": "code",
   "execution_count": 1,
   "id": "e7265e54",
   "metadata": {},
   "outputs": [],
   "source": [
    "import numpy as np\n",
    "import rasterio as rio\n",
    "from config import *"
   ]
  },
  {
   "cell_type": "markdown",
   "id": "a7600fd8",
   "metadata": {},
   "source": [
    "## Risk class dataset\n",
    "\n",
    "### Spatial extent:\n",
    "\n",
    "What is the spatial extent of this dataset in WGS84 coordiantes?"
   ]
  },
  {
   "cell_type": "code",
   "execution_count": 2,
   "id": "e0273ff3",
   "metadata": {},
   "outputs": [
    {
     "name": "stdout",
     "output_type": "stream",
     "text": [
      "WSEN: [-196.0443   50.6467 -117.6533   71.3126]\n"
     ]
    }
   ],
   "source": [
    "from rasterio.crs import CRS\n",
    "from rasterio.warp import transform_bounds\n",
    "\n",
    "fps = list(out_risk_dir.glob(\"*tif\"))\n",
    "\n",
    "with rio.open(fps[0]) as src:\n",
    "    src_crs = src.crs\n",
    "    src_bounds = src.bounds\n",
    "\n",
    "dst_crs = CRS.from_wkt(\n",
    "    CRS.from_epsg(4326).to_wkt().replace('PRIMEM[\"Greenwich\",0', 'PRIMEM[\"Greenwich\",180')\n",
    ")\n",
    "\n",
    "bounds = transform_bounds(src_crs, dst_crs, *src_bounds)\n",
    "\n",
    "print(\"WSEN:\", np.round((bounds[0] - 180, bounds[1], bounds[2] - 180, bounds[3]), 4))"
   ]
  },
  {
   "cell_type": "markdown",
   "id": "c4cb4df7",
   "metadata": {},
   "source": [
    "### Coordinate reference system:"
   ]
  },
  {
   "cell_type": "code",
   "execution_count": 3,
   "id": "7cf9bdb5",
   "metadata": {},
   "outputs": [
    {
     "name": "stdout",
     "output_type": "stream",
     "text": [
      "CRS is EPSG:3338\n"
     ]
    }
   ],
   "source": [
    "print(f\"CRS is {src.crs}\")"
   ]
  },
  {
   "cell_type": "markdown",
   "id": "bbcc2078",
   "metadata": {},
   "source": [
    "### Resolution:"
   ]
  },
  {
   "cell_type": "code",
   "execution_count": 4,
   "id": "fb90b1a2",
   "metadata": {},
   "outputs": [
    {
     "name": "stdout",
     "output_type": "stream",
     "text": [
      "Resolution is 11941m\n"
     ]
    }
   ],
   "source": [
    "print(f\"Resolution is {round(src.transform[0])}m\")"
   ]
  },
  {
   "cell_type": "markdown",
   "id": "84fdbefa",
   "metadata": {},
   "source": [
    "### Temporal extent\n",
    "\n",
    "What is the temporal extent of this dataset? Print the time periods available:"
   ]
  },
  {
   "cell_type": "code",
   "execution_count": 5,
   "id": "bb4b08c7",
   "metadata": {},
   "outputs": [
    {
     "data": {
      "text/plain": [
       "array(['1988-2017', '2010-2039', '2040-2069', '2070-2099'], dtype='<U9')"
      ]
     },
     "execution_count": 5,
     "metadata": {},
     "output_type": "execute_result"
    }
   ],
   "source": [
    "np.unique([fp.name.split(\"_\")[2] for fp in fps])"
   ]
  }
 ],
 "metadata": {
  "kernelspec": {
   "display_name": "Python 3 (ipykernel)",
   "language": "python",
   "name": "python3"
  },
  "language_info": {
   "codemirror_mode": {
    "name": "ipython",
    "version": 3
   },
   "file_extension": ".py",
   "mimetype": "text/x-python",
   "name": "python",
   "nbconvert_exporter": "python",
   "pygments_lexer": "ipython3",
   "version": "3.9.13"
  }
 },
 "nbformat": 4,
 "nbformat_minor": 5
}
